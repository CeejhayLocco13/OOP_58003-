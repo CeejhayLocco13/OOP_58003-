{
  "nbformat": 4,
  "nbformat_minor": 0,
  "metadata": {
    "colab": {
      "name": "Prelim Exam.ipynb",
      "provenance": [],
      "collapsed_sections": [],
      "authorship_tag": "ABX9TyMtVQtrRGKVFEJRJDBga7PO",
      "include_colab_link": true
    },
    "kernelspec": {
      "name": "python3",
      "display_name": "Python 3"
    },
    "language_info": {
      "name": "python"
    }
  },
  "cells": [
    {
      "cell_type": "markdown",
      "metadata": {
        "id": "view-in-github",
        "colab_type": "text"
      },
      "source": [
        "<a href=\"https://colab.research.google.com/github/CeejhayLocco13/OOP_58003-/blob/main/Prelim_Exam.ipynb\" target=\"_parent\"><img src=\"https://colab.research.google.com/assets/colab-badge.svg\" alt=\"Open In Colab\"/></a>"
      ]
    },
    {
      "cell_type": "markdown",
      "source": [
        "Prelim Exam"
      ],
      "metadata": {
        "id": "9xhQwflviMXU"
      }
    },
    {
      "cell_type": "code",
      "execution_count": null,
      "metadata": {
        "colab": {
          "base_uri": "https://localhost:8080/"
        },
        "id": "JqaLRFJ5hilY",
        "outputId": "fe2379c8-6b5e-4d36-be9e-8363a24fc8d3"
      },
      "outputs": [
        {
          "output_type": "stream",
          "name": "stdout",
          "text": [
            "Name: Divinagracia Christian Joseph R.\n",
            "age: 20\n",
            "studentnumber: 202112237\n",
            "school: Adamson University\n",
            "course: BS Cpe\n",
            "None\n"
          ]
        }
      ],
      "source": [
        "class OOP_58003:\n",
        "  def __init__(self, name, age, studentnumber, school, course):\n",
        "    self.name = name\n",
        "    self.age = age\n",
        "    self.studentnumber = studentnumber\n",
        "    self.school = school\n",
        "    self.course = course\n",
        "  def description(self):\n",
        "    return self.name, self.age,self.studentnumber,self.school,self.course\n",
        "  \n",
        "  def display(self):\n",
        "    print(\"Name:\", self.name)\n",
        "    print(\"age:\",self.age)\n",
        "    print(\"studentnumber:\",self.studentnumber)\n",
        "    print(\"school:\",self.school)\n",
        "    print(\"course:\",self.course)\n",
        "    \n",
        "name1 = OOP_58003(\"Divinagracia Christian Joseph R.\", \"20\",\"202112237\",\"Adamson University\",\"BS Cpe\")\n",
        "print(name1.display())"
      ]
    }
  ]
}